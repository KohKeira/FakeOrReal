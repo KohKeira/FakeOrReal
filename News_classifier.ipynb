{
  "nbformat": 4,
  "nbformat_minor": 0,
  "metadata": {
    "colab": {
      "name": "News classifier",
      "provenance": [],
      "collapsed_sections": [],
      "authorship_tag": "ABX9TyOAOsXffR0YnDuZQJHLcx6s",
      "include_colab_link": true
    },
    "kernelspec": {
      "name": "python3",
      "display_name": "Python 3"
    },
    "language_info": {
      "name": "python"
    }
  },
  "cells": [
    {
      "cell_type": "markdown",
      "metadata": {
        "id": "view-in-github",
        "colab_type": "text"
      },
      "source": [
        "<a href=\"https://colab.research.google.com/github/KohKeira/FakeOrReal/blob/main/News_classifier.ipynb\" target=\"_parent\"><img src=\"https://colab.research.google.com/assets/colab-badge.svg\" alt=\"Open In Colab\"/></a>"
      ]
    },
    {
      "cell_type": "code",
      "metadata": {
        "id": "IjnimnU3umkb"
      },
      "source": [
        "%%capture\n",
        "!pip install nltk\n",
        "\n",
        "# Loading NLTK\n",
        "import nltk\n",
        "nltk.download('punkt')\n",
        "nltk.download('stopwords')\n",
        "nltk.download('wordnet')"
      ],
      "execution_count": null,
      "outputs": []
    },
    {
      "cell_type": "code",
      "metadata": {
        "id": "Sl1WQpO2u1YB"
      },
      "source": [
        "import pandas as pd\n",
        "from nltk.tokenize import word_tokenize\n",
        "from nltk.corpus import stopwords\n",
        "from nltk.stem import WordNetLemmatizer\n",
        "from sklearn.feature_extraction.text import TfidfVectorizer\n",
        "from sklearn.model_selection import train_test_split\n",
        "from sklearn.metrics import confusion_matrix, accuracy_score, classification_report\n",
        "\n",
        "\n",
        "lem = WordNetLemmatizer()\n",
        "stop_words=set(stopwords.words(\"english\"))\n",
        "punctuations=\"?:!.,;\"\n",
        "\n",
        "data = pd.read_csv(\"news.csv\", encoding = \"latin-1\")\n",
        "data = data[['title', 'label']]\n",
        "data = data.rename(columns = {'title':'text', \"label\": 'label'})\n",
        "\n",
        "processed = []\n",
        "\n",
        "# data pre-processing\n",
        "def process_data(msg):\n",
        "  msg = msg.lower()\n",
        "  msg = word_tokenize(msg)\n",
        "  filtered_msg = []\n",
        "  for word in msg:\n",
        "    if word not in punctuations and word not in stop_words:\n",
        "      word = lem.lemmatize(word)\n",
        "      filtered_msg.append(word)\n",
        "\n",
        "  filtered_msg = \" \".join(filtered_msg)\n",
        "\n",
        "  return filtered_msg\n",
        "\n",
        "\n",
        "data['text'] = data['text'].apply(process_data)\n",
        "\n",
        "X_train, X_test, y_train, y_test = train_test_split(data['text'], data['label'], test_size = 0.25, random_state=1)\n",
        "\n",
        "tfidf = TfidfVectorizer(ngram_range=(1,3))\n",
        "X_train = tfidf.fit_transform(X_train)\n",
        "X_test = tfidf.transform(X_test)\n",
        "\n"
      ],
      "execution_count": null,
      "outputs": []
    },
    {
      "cell_type": "code",
      "metadata": {
        "colab": {
          "base_uri": "https://localhost:8080/"
        },
        "id": "txodrFR1vIxz",
        "outputId": "a003b955-7fcb-4b2c-9bc3-f6e5ec2b242a"
      },
      "source": [
        "# training the classifier \n",
        "\n",
        "# Naive Bayes\n",
        "from sklearn.naive_bayes import MultinomialNB\n",
        "\n",
        "#Grid Search\n",
        "#from sklearn.model_selection import GridSearchCV\n",
        "#alpha = [0.01, 0.1, 0.3, 0.5, 0.7, 1]\n",
        "#param_grid = dict(alpha=alpha)\n",
        "#grid = GridSearchCV(estimator=classifierNB, param_grid=param_grid)\n",
        "#grid_result = grid.fit(X_train, y_train)\n",
        "#print(\"Best: %f using %s\" % (grid_result.best_score_, grid_result.best_params_))\n",
        "\n",
        "### STEP 4 - Prediction\n",
        "### Create and run Classifier\n",
        "\n",
        "classifierNB = MultinomialNB(alpha=0.3)\n",
        "\n",
        "\n",
        "### Fitting requires training TF_IDF vectors and labels\n",
        "classifierNB.fit(X_train, y_train)\n",
        "\n",
        "pred=classifierNB.predict(X_test)\n",
        "\n",
        "print(\"Confusion matrix: \\n\", confusion_matrix(y_test, pred))\n",
        "\n",
        "score = accuracy_score(y_test,pred)\n",
        "print(\"\\nAccuracy Score:\", score)\n",
        "\n",
        "matrix = classification_report(y_test,pred)\n",
        "print(\"\\nClassfication Report: \\n\", matrix)"
      ],
      "execution_count": null,
      "outputs": [
        {
          "output_type": "stream",
          "name": "stdout",
          "text": [
            "Confusion matrix: \n",
            " [[1144   66]\n",
            " [  54 1236]]\n",
            "\n",
            "Accuracy Score: 0.952\n",
            "\n",
            "Classfication Report: \n",
            "               precision    recall  f1-score   support\n",
            "\n",
            "        FAKE       0.95      0.95      0.95      1210\n",
            "        TRUE       0.95      0.96      0.95      1290\n",
            "\n",
            "    accuracy                           0.95      2500\n",
            "   macro avg       0.95      0.95      0.95      2500\n",
            "weighted avg       0.95      0.95      0.95      2500\n",
            "\n"
          ]
        }
      ]
    },
    {
      "cell_type": "code",
      "metadata": {
        "colab": {
          "base_uri": "https://localhost:8080/"
        },
        "id": "AHT-XXq4yLeh",
        "outputId": "ebfc002a-138e-4537-ecc9-bc8df4fd90a3"
      },
      "source": [
        "#test against new messages\n",
        "def pred(msg):\n",
        "  msg = tfidf.transform([msg])\n",
        "  prediction = classifierNB.predict(msg)\n",
        "  return prediction[0]\n",
        "\n",
        "print(pred(\"Poland to allocate additional $55 bllion on defense by 2032: deputy minister\"))\n",
        "print(pred(\"Arizona Rancher Protesting in Oregon is Targeted by CPS, Loses Custody of Foster Children\"))"
      ],
      "execution_count": null,
      "outputs": [
        {
          "output_type": "stream",
          "name": "stdout",
          "text": [
            "TRUE\n",
            "FAKE\n"
          ]
        }
      ]
    }
  ]
}